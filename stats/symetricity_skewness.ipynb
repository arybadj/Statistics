{
 "cells": [
  {
   "cell_type": "code",
   "execution_count": 1,
   "id": "100c847b",
   "metadata": {},
   "outputs": [
    {
     "data": {
      "text/plain": [
       "[2, 4, 5, 6, 7, 12, 35, 55, 105, 106, 106, 108]"
      ]
     },
     "execution_count": 1,
     "metadata": {},
     "output_type": "execute_result"
    }
   ],
   "source": [
    "data=[2,4,5,6,7,12,35,55,105,106,106,108]\n",
    "data"
   ]
  },
  {
   "cell_type": "markdown",
   "id": "6bfd42b4",
   "metadata": {},
   "source": [
    "### Measure of dispersion"
   ]
  },
  {
   "cell_type": "code",
   "execution_count": 4,
   "id": "4bbd6f38",
   "metadata": {},
   "outputs": [
    {
     "data": {
      "text/plain": [
       "106"
      ]
     },
     "execution_count": 4,
     "metadata": {},
     "output_type": "execute_result"
    }
   ],
   "source": [
    "# Range\n",
    "#to find the range of the data \n",
    "max(data)-min(data)\n"
   ]
  },
  {
   "cell_type": "code",
   "execution_count": 7,
   "id": "5377885e",
   "metadata": {},
   "outputs": [
    {
     "data": {
      "text/plain": [
       "array([  2.  ,   5.75,  23.5 , 105.25, 108.  ])"
      ]
     },
     "execution_count": 7,
     "metadata": {},
     "output_type": "execute_result"
    }
   ],
   "source": [
    "# percentile\n",
    "import numpy as np\n",
    "np.percentile(data,[0,25,50,75,100])# this list is number of percentile we want like 25 percentile"
   ]
  },
  {
   "cell_type": "code",
   "execution_count": 8,
   "id": "75a0e976",
   "metadata": {},
   "outputs": [
    {
     "data": {
      "text/plain": [
       "100.0"
      ]
     },
     "execution_count": 8,
     "metadata": {},
     "output_type": "execute_result"
    }
   ],
   "source": [
    "# IQR\n",
    "# this is q3-q1\n",
    "105.75-5.75"
   ]
  },
  {
   "cell_type": "code",
   "execution_count": 9,
   "id": "87f3b19d",
   "metadata": {},
   "outputs": [
    {
     "data": {
      "text/plain": [
       "<Axes: >"
      ]
     },
     "execution_count": 9,
     "metadata": {},
     "output_type": "execute_result"
    },
    {
     "data": {
      "image/png": "[encoded data removed]",
      "text/plain": [
       "<Figure size 640x480 with 1 Axes>"
      ]
     },
     "metadata": {},
     "output_type": "display_data"
    }
   ],
   "source": [
    "# BOX-PLOT\n",
    "import seaborn as sns\n",
    "sns.boxplot(data)"
   ]
  },
  {
   "cell_type": "code",
   "execution_count": 10,
   "id": "258991ac",
   "metadata": {},
   "outputs": [
    {
     "data": {
      "text/plain": [
       "np.float64(2032.076388888889)"
      ]
     },
     "execution_count": 10,
     "metadata": {},
     "output_type": "execute_result"
    }
   ],
   "source": [
    "# variance\n",
    "np.var(data)"
   ]
  },
  {
   "cell_type": "code",
   "execution_count": 11,
   "id": "31e3fc25",
   "metadata": {},
   "outputs": [
    {
     "data": {
      "text/plain": [
       "np.float64(45.07855797259811)"
      ]
     },
     "execution_count": 11,
     "metadata": {},
     "output_type": "execute_result"
    }
   ],
   "source": [
    "# standard deviation\n",
    "np.std(data)"
   ]
  },
  {
   "cell_type": "code",
   "execution_count": 14,
   "id": "b3f84ce8",
   "metadata": {},
   "outputs": [
    {
     "data": {
      "text/plain": [
       "2216.810606060606"
      ]
     },
     "execution_count": 14,
     "metadata": {},
     "output_type": "execute_result"
    }
   ],
   "source": [
    "import statistics\n",
    "statistics.variance(data)# this has choosen sample value and taken n-1 as the denominator"
   ]
  },
  {
   "cell_type": "code",
   "execution_count": 16,
   "id": "78e34971",
   "metadata": {},
   "outputs": [
    {
     "data": {
      "text/plain": [
       "2032.076388888889"
      ]
     },
     "execution_count": 16,
     "metadata": {},
     "output_type": "execute_result"
    }
   ],
   "source": [
    "statistics.pvariance(data)# in this it has taken N not n-1"
   ]
  },
  {
   "cell_type": "code",
   "execution_count": 13,
   "id": "e54e19bc",
   "metadata": {},
   "outputs": [
    {
     "data": {
      "text/plain": [
       "47.083018234397485"
      ]
     },
     "execution_count": 13,
     "metadata": {},
     "output_type": "execute_result"
    }
   ],
   "source": [
    "statistics.stdev(data)"
   ]
  },
  {
   "cell_type": "code",
   "execution_count": null,
   "id": "2bf258c3",
   "metadata": {},
   "outputs": [],
   "source": []
  }
 ],
 "metadata": {
  "kernelspec": {
   "display_name": "Python 3",
   "language": "python",
   "name": "python3"
  },
  "language_info": {
   "codemirror_mode": {
    "name": "ipython",
    "version": 3
   },
   "file_extension": ".py",
   "mimetype": "text/x-python",
   "name": "python",
   "nbconvert_exporter": "python",
   "pygments_lexer": "ipython3",
   "version": "3.12.1"
  }
 },
 "nbformat": 4,
 "nbformat_minor": 5
}
